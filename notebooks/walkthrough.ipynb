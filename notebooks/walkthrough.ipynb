{
 "cells": [
  {
   "cell_type": "markdown",
   "metadata": {},
   "source": [
    "# Project Walkthrough: Telecom Churn Prediction\n",
    "\n",
    "This notebook provides a step-by-step demonstration of the end-to-end machine learning pipeline for the telecom churn use case. We will cover:\n",
    "\n",
    "1.  **Data Loading & Validation:** Reading the raw data and validating it against a schema.\n",
    "2.  **Model Training:** Training a logistic regression model on the processed data.\n",
    "3.  **Making a Recommendation:** Using the trained model to make a prediction and generate a recommendation for a sample customer.\n",
    "\n",
    "This notebook uses the scripts from the `src/` directory to ensure we are demonstrating the project's actual production code."
   ]
  },
  {
   "cell_type": "markdown",
   "metadata": {},
   "source": [
    "## 1. Data Loading and Validation\n",
    "\n",
    "First, we run the data loading script (`src/data_loader.py`) on our raw telecom churn CSV. This script will:\n",
    "\n",
    "- Validate the data using the schema at `src/schemas/telecom_schema.yml`.\n",
    "- Create a clean, processed Parquet file in `data/processed/`.\n",
    "- Generate a JSON log file to confirm the process ran successfully."
   ]
  },
  {
   "cell_type": "code",
   "execution_count": null,
   "metadata": {},
   "outputs": [],
   "source": [
    "# We use the '!' symbol to execute shell commands from within the notebook.\n",
    "!python ../src/data_loader.py telecom ../data/telecom_churn.csv"
   ]
  },
  {
   "cell_type": "markdown",
   "metadata": {},
   "source": [
    "Now, let's inspect the processed data using pandas to confirm it's what we expect."
   ]
  },
  {
   "cell_type": "code",
   "execution_count": null,
   "metadata": {},
   "outputs": [],
   "source": [
    "import pandas as pd\n",
    "\n",
    "df = pd.read_parquet('../data/processed/telecom_processed.parquet')\n",
    "df.head()"
   ]
  },
  {
   "cell_type": "markdown",
   "metadata": {},
   "source": [
    "## 2. Model Training\n",
    "\n",
    "Next, we run the training script (`src/train.py`). This script loads the processed Parquet file and:\n",
    "\n",
    "- Applies a feature engineering pipeline (scaling numerical features, one-hot encoding categorical ones).\n",
    "- Trains a `LogisticRegression` model.\n",
    "- Saves the trained model pipeline and a JSON file with performance metrics to the `artifacts/` directory."
   ]
  },
  {
   "cell_type": "code",
   "execution_count": null,
   "metadata": {},
   "outputs": [],
   "source": [
    "!python ../src/train.py telecom"
   ]
  },
  {
   "cell_type": "markdown",
   "metadata": {},
   "source": [
    "Let's view the metrics that were generated during training."
   ]
  },
  {
   "cell_type": "code",
   "execution_count": null,
   "metadata": {},
   "outputs": [],
   "source": [
    "import json\n",
    "\n",
    "with open('../artifacts/telecom_metrics.json', 'r') as f:\n",
    "    metrics = json.load(f)\n",
    "\n",
    "print(json.dumps(metrics, indent=4))"
   ]
  },
  {
   "cell_type": "markdown",
   "metadata": {},
   "source": [
    "## 3. Making a Recommendation\n",
    "\n",
    "Finally, we use the recommendation script (`src/recommend.py`) to make a prediction for a new, single customer. We will use the trained model saved in the previous step.\n",
    "\n",
    "Here, we define a sample customer who looks like a high-risk case (short tenure, basic services)."
   ]
  },
  {
   "cell_type": "code",
   "execution_count": null,
   "metadata": {},
   "outputs": [],
   "source": [
    "import sys\n",
    "sys.path.append('..')\n",
    "\n",
    "from src.recommend import recommend_telecom_retention\n",
    "\n",
    "# Define a sample customer\n",
    "sample_customer = {\n",
    "    \"gender\": \"Female\",\n",
    "    \"SeniorCitizen\": 0,\n",
    "    \"Partner\": \"No\",\n",
    "    \"Dependents\": \"No\",\n",
    "    \"tenure\": 1,\n",
    "    \"PhoneService\": \"No\",\n",
    "    \"MonthlyCharges\": 29.85,\n",
    "    \"TotalCharges\": 29.85\n",
    "}\n",
    "\n",
    "# Get the recommendation\n",
    "recommendation = recommend_telecom_retention(sample_customer)\n",
    "print(recommendation)"
   ]
  },
  {
   "cell_type": "markdown",
   "metadata": {},
   "source": [
    "This demonstrates the full, end-to-end flow of the system: from raw data, to a trained model, to a final, actionable recommendation."
   ]
  }
 ],
 "metadata": {
  "kernelspec": {
   "display_name": "Python 3 (ipykernel)",
   "language": "python",
   "name": "python3"
  },
  "language_info": {
   "codemirror_mode": {
    "name": "ipython",
    "version": 3
   },
   "file_extension": ".py",
   "mimetype": "text/x-python",
   "name": "python",
   "nbconvert_exporter": "python",
   "pygments_lexer": "ipython3",
   "version": "3.12.7"
  }
 },
 "nbformat": 4,
 "nbformat_minor": 4
}
